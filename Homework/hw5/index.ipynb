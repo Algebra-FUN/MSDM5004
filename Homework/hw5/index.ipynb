{
 "cells": [
  {
   "cell_type": "markdown",
   "id": "e498c5d4-2733-4885-aa0f-840fbb0ece59",
   "metadata": {},
   "source": [
    "# Part II Assignment 2\n",
    "\n",
    "## 1. Consider the cubic approximation $g(x)$ of the function $f(x)$ \n",
    "$$\n",
    "f(x)\\approx g(x)=Ax^3 +Bx^2 +Cx+D\n",
    "$$\n",
    "which satisfies\n",
    "\n",
    "$$\n",
    "\\begin{cases}\n",
    "\\begin{aligned}\n",
    "g(-\\frac{3h}2) &= f(-\\frac{3h}2)\\\\\n",
    "g(-\\frac{h}2) &= f(-\\frac{h}2)\\\\\n",
    "g(\\frac{h}2) &= f(\\frac{h}2)\\\\\n",
    "g(\\frac{3h}2) &= f(\\frac{3h}2)\n",
    "\\end{aligned}\n",
    "\\end{cases}\n",
    "$$\n",
    "\n",
    "### (a) Find $B$ and $D$ in terms of $h$"
   ]
  },
  {
   "cell_type": "code",
   "execution_count": 1,
   "id": "9e291e71-1f5e-4007-880d-015790365665",
   "metadata": {
    "tags": []
   },
   "outputs": [
    {
     "name": "stderr",
     "output_type": "stream",
     "text": [
      "\u001b[33m\u001b[1m┌ \u001b[22m\u001b[39m\u001b[33m\u001b[1mWarning: \u001b[22m\u001b[39mFor saving to png with the `Plotly` backend `PlotlyBase` and `PlotlyKaleido` need to be installed.\n",
      "\u001b[33m\u001b[1m│ \u001b[22m\u001b[39m  err =\n",
      "\u001b[33m\u001b[1m│ \u001b[22m\u001b[39m   ArgumentError: Package PlotlyKaleido not found in current path.\n",
      "\u001b[33m\u001b[1m│ \u001b[22m\u001b[39m   - Run `import Pkg; Pkg.add(\"PlotlyKaleido\")` to install the PlotlyKaleido package.\n",
      "\u001b[33m\u001b[1m└ \u001b[22m\u001b[39m\u001b[90m@ Plots ~/.julia/packages/Plots/QZRtR/src/backends.jl:552\u001b[39m\n"
     ]
    }
   ],
   "source": [
    "using SymPy,Plots,Markdown\n",
    "\n",
    "plotly();"
   ]
  },
  {
   "cell_type": "code",
   "execution_count": 2,
   "id": "11a6f52f-062d-4546-8b11-cf1ccf3a282f",
   "metadata": {
    "tags": []
   },
   "outputs": [
    {
     "data": {
      "text/plain": [
       "(A, B, C, D)"
      ]
     },
     "execution_count": 2,
     "metadata": {},
     "output_type": "execute_result"
    }
   ],
   "source": [
    "@vars h x\n",
    "@vars A B C D"
   ]
  },
  {
   "cell_type": "code",
   "execution_count": 3,
   "id": "344eea8d-4aab-4109-9c08-5f483e18e859",
   "metadata": {
    "tags": []
   },
   "outputs": [
    {
     "data": {
      "text/latex": [
       "$\\begin{align*}f\\end{align*}$\n"
      ],
      "text/plain": [
       "f"
      ]
     },
     "execution_count": 3,
     "metadata": {},
     "output_type": "execute_result"
    }
   ],
   "source": [
    "f = SymFunction(\"f\")"
   ]
  },
  {
   "cell_type": "code",
   "execution_count": 4,
   "id": "e747a077-70b0-4bed-90df-6953b8b16ba8",
   "metadata": {
    "tags": []
   },
   "outputs": [
    {
     "data": {
      "text/plain": [
       "g (generic function with 1 method)"
      ]
     },
     "execution_count": 4,
     "metadata": {},
     "output_type": "execute_result"
    }
   ],
   "source": [
    "g(x) = A*x^3+B*x^2+C*x+D"
   ]
  },
  {
   "cell_type": "code",
   "execution_count": 5,
   "id": "0f18f73f-e8ff-4c91-9a16-45c8ecc8bbf6",
   "metadata": {
    "tags": []
   },
   "outputs": [
    {
     "data": {
      "text/latex": [
       "$\\left\\{\\left( - \\frac{f{\\left(- \\frac{3 h}{2} \\right)}}{6 h^{3}} + \\frac{f{\\left(- \\frac{h}{2} \\right)}}{2 h^{3}} - \\frac{f{\\left(\\frac{h}{2} \\right)}}{2 h^{3}} + \\frac{f{\\left(\\frac{3 h}{2} \\right)}}{6 h^{3}}, \\  \\frac{f{\\left(- \\frac{3 h}{2} \\right)}}{4 h^{2}} - \\frac{f{\\left(- \\frac{h}{2} \\right)}}{4 h^{2}} - \\frac{f{\\left(\\frac{h}{2} \\right)}}{4 h^{2}} + \\frac{f{\\left(\\frac{3 h}{2} \\right)}}{4 h^{2}}, \\  \\frac{f{\\left(- \\frac{3 h}{2} \\right)}}{24 h} - \\frac{9 f{\\left(- \\frac{h}{2} \\right)}}{8 h} + \\frac{9 f{\\left(\\frac{h}{2} \\right)}}{8 h} - \\frac{f{\\left(\\frac{3 h}{2} \\right)}}{24 h}, \\  - \\frac{f{\\left(- \\frac{3 h}{2} \\right)}}{16} + \\frac{9 f{\\left(- \\frac{h}{2} \\right)}}{16} + \\frac{9 f{\\left(\\frac{h}{2} \\right)}}{16} - \\frac{f{\\left(\\frac{3 h}{2} \\right)}}{16}\\right)\\right\\}$"
      ],
      "text/plain": [
       "⎧⎛   ⎛-3⋅h ⎞    ⎛-h ⎞    ⎛h⎞    ⎛3⋅h⎞   ⎛-3⋅h ⎞    ⎛-h ⎞    ⎛h⎞    ⎛3⋅h⎞   ⎛-3\n",
       "⎪⎜  f⎜─────⎟   f⎜───⎟   f⎜─⎟   f⎜───⎟  f⎜─────⎟   f⎜───⎟   f⎜─⎟   f⎜───⎟  f⎜──\n",
       "⎪⎜   ⎝  2  ⎠    ⎝ 2 ⎠    ⎝2⎠    ⎝ 2 ⎠   ⎝  2  ⎠    ⎝ 2 ⎠    ⎝2⎠    ⎝ 2 ⎠   ⎝  \n",
       "⎨⎜- ──────── + ────── - ──── + ──────, ──────── - ────── - ──── + ──────, ────\n",
       "⎪⎜       3         3       3       3        2         2       2       2     24\n",
       "⎪⎝    6⋅h       2⋅h     2⋅h     6⋅h      4⋅h       4⋅h     4⋅h     4⋅h        \n",
       "⎩                                                                             \n",
       "\n",
       "⋅h ⎞      ⎛-h ⎞      ⎛h⎞    ⎛3⋅h⎞     ⎛-3⋅h ⎞      ⎛-h ⎞      ⎛h⎞    ⎛3⋅h⎞⎞⎫\n",
       "───⎟   9⋅f⎜───⎟   9⋅f⎜─⎟   f⎜───⎟    f⎜─────⎟   9⋅f⎜───⎟   9⋅f⎜─⎟   f⎜───⎟⎟⎪\n",
       "2  ⎠      ⎝ 2 ⎠      ⎝2⎠    ⎝ 2 ⎠     ⎝  2  ⎠      ⎝ 2 ⎠      ⎝2⎠    ⎝ 2 ⎠⎟⎪\n",
       "──── - ──────── + ────── - ──────, - ──────── + ──────── + ────── - ──────⎟⎬\n",
       "⋅h       8⋅h       8⋅h      24⋅h        16         16        16       16  ⎟⎪\n",
       "                                                                          ⎠⎪\n",
       "                                                                           ⎭"
      ]
     },
     "execution_count": 5,
     "metadata": {},
     "output_type": "execute_result"
    }
   ],
   "source": [
    "solution = linsolve([g(x)-f(x) for x ∈ (-3*h/2,-h/2,h/2,3*h/2)],(A,B,C,D))"
   ]
  },
  {
   "cell_type": "code",
   "execution_count": 6,
   "id": "363dd2c6-5372-48f9-b237-e4f68b32b835",
   "metadata": {
    "tags": []
   },
   "outputs": [
    {
     "data": {
      "text/latex": [
       "$B = \\frac{f{\\left(- \\frac{3 h}{2} \\right)}}{4 h^{2}} - \\frac{f{\\left(- \\frac{h}{2} \\right)}}{4 h^{2}} - \\frac{f{\\left(\\frac{h}{2} \\right)}}{4 h^{2}} + \\frac{f{\\left(\\frac{3 h}{2} \\right)}}{4 h^{2}}$"
      ],
      "text/plain": [
       "     ⎛-3⋅h ⎞    ⎛-h ⎞    ⎛h⎞    ⎛3⋅h⎞\n",
       "    f⎜─────⎟   f⎜───⎟   f⎜─⎟   f⎜───⎟\n",
       "     ⎝  2  ⎠    ⎝ 2 ⎠    ⎝2⎠    ⎝ 2 ⎠\n",
       "B = ──────── - ────── - ──── + ──────\n",
       "         2         2       2       2 \n",
       "      4⋅h       4⋅h     4⋅h     4⋅h  "
      ]
     },
     "execution_count": 6,
     "metadata": {},
     "output_type": "execute_result"
    }
   ],
   "source": [
    "B_solution = solution.__pyobject__.args[1].args[2]\n",
    "Eq(B,B_solution)"
   ]
  },
  {
   "cell_type": "code",
   "execution_count": 7,
   "id": "98516d49-e3d3-4573-b426-ffddd47ed5bd",
   "metadata": {
    "tags": []
   },
   "outputs": [
    {
     "data": {
      "text/latex": [
       "$D = - \\frac{f{\\left(- \\frac{3 h}{2} \\right)}}{16} + \\frac{9 f{\\left(- \\frac{h}{2} \\right)}}{16} + \\frac{9 f{\\left(\\frac{h}{2} \\right)}}{16} - \\frac{f{\\left(\\frac{3 h}{2} \\right)}}{16}$"
      ],
      "text/plain": [
       "       ⎛-3⋅h ⎞      ⎛-h ⎞      ⎛h⎞    ⎛3⋅h⎞\n",
       "      f⎜─────⎟   9⋅f⎜───⎟   9⋅f⎜─⎟   f⎜───⎟\n",
       "       ⎝  2  ⎠      ⎝ 2 ⎠      ⎝2⎠    ⎝ 2 ⎠\n",
       "D = - ──────── + ──────── + ────── - ──────\n",
       "         16         16        16       16  "
      ]
     },
     "execution_count": 7,
     "metadata": {},
     "output_type": "execute_result"
    }
   ],
   "source": [
    "D_solution = solution.__pyobject__.args[1].args[4]\n",
    "Eq(D,D_solution)"
   ]
  },
  {
   "cell_type": "markdown",
   "id": "4320f4d1-046a-4ebb-b622-56375f69a024",
   "metadata": {},
   "source": [
    "### (b) Obtain the formula of the approximation of\n",
    "$$\n",
    "\\int_{-\\frac{3h}2}^{\\frac{3h}2}f(x)dx\\approx\\int_{-\\frac{3h}2}^{\\frac{3h}2}(Ax^3 +Bx^2 +Cx+D)dx\n",
    "$$\n",
    "in terms of $h,f(-\\frac{3h}2),f(-\\frac{h}2),f(\\frac{h}2),f(\\frac{3h}2)$.\n",
    "\n",
    "First of all, let utilize the odevity of $g(x)$ to do basic simplification.\n",
    "\n",
    "$$\n",
    "\\begin{aligned}\n",
    "\\int_{-\\frac{3h}2}^{\\frac{3h}2}(Ax^3 +Bx^2 +Cx+D)dx\n",
    "&=\\int_{-\\frac{3h}2}^{\\frac{3h}2}(Bx^2+D)dx\\\\\n",
    "\\end{aligned}\n",
    "$$"
   ]
  },
  {
   "cell_type": "code",
   "execution_count": 8,
   "id": "81c36d2a-28f3-4e17-8448-5b4f785c624a",
   "metadata": {
    "tags": []
   },
   "outputs": [
    {
     "data": {
      "text/latex": [
       "$\\int_{- \\frac{3 h}{2}}^{\\frac{3 h}{2}} f{\\left(x \\right)}\\, dx = \\frac{3 h \\left(f{\\left(- \\frac{3 h}{2} \\right)} + 3 f{\\left(- \\frac{h}{2} \\right)} + 3 f{\\left(\\frac{h}{2} \\right)} + f{\\left(\\frac{3 h}{2} \\right)}\\right)}{8}$"
      ],
      "text/plain": [
       " 3⋅h                                                       \n",
       " ───                ⎛ ⎛-3⋅h ⎞      ⎛-h ⎞      ⎛h⎞    ⎛3⋅h⎞⎞\n",
       "  2             3⋅h⋅⎜f⎜─────⎟ + 3⋅f⎜───⎟ + 3⋅f⎜─⎟ + f⎜───⎟⎟\n",
       "  ⌠                 ⎝ ⎝  2  ⎠      ⎝ 2 ⎠      ⎝2⎠    ⎝ 2 ⎠⎠\n",
       "  ⎮   f(x) dx = ───────────────────────────────────────────\n",
       "  ⌡                                  8                     \n",
       "-3⋅h                                                       \n",
       "─────                                                      \n",
       "  2                                                        "
      ]
     },
     "execution_count": 8,
     "metadata": {},
     "output_type": "execute_result"
    }
   ],
   "source": [
    "Eq(integrate(f(x),(x,-3*h/2,3*h/2)),integrate(B*x^2+D,(x,-3*h/2,3*h/2))(B=>B_solution,D=>D_solution)|>simplify)"
   ]
  },
  {
   "cell_type": "markdown",
   "id": "75edf8e2-7efb-4e4a-8c93-721e03b1c0e0",
   "metadata": {},
   "source": [
    "### (c) Obtain the composite rule for\n",
    "\n",
    "$$\n",
    "\\int_a^bf(x)dx\n",
    "$$\n",
    "\n",
    "in terms of $h$ and $f(x_k)$, where $x_k = a + kh$, $k = 0, 1, 2,\\cdots , N$, and $h = b-a$ with $N$ being a multiple of 3.\n",
    "\n",
    "$$\n",
    "\\int_a^bf(x)dx=\\frac{3h}8\\sum_{i=1}^{\\frac{N}3}\\left[f(x_{3i-3})+3f(x_{3i-2})+3f(x_{3i-1})+f(x_{3i})\\right]\n",
    "$$\n"
   ]
  },
  {
   "cell_type": "markdown",
   "id": "25de1a53-e6c2-4588-93ef-b2bd5d685fe8",
   "metadata": {},
   "source": [
    "## 2. Write a program to calculate an approximate value for the integral\n",
    "$$\n",
    "\\int_0^2(x^4-2x+1)dx\n",
    "$$\n",
    "\n",
    "### (a) using \n",
    "- (i) Trapezoidal rule\n",
    "$$\n",
    "I = h\\left[\\frac12f(a)+\\frac12f(b)+\\sum_{k=1}^{N-1}f(a+kh)\\right]\n",
    "$$\n",
    "\n",
    "- (ii) Simpson’s 1/3 rule\n",
    "\n",
    "$$\n",
    "I = \\frac13 h\\left[f(a)+f(b)+4\\sum_{k=1}^{\\frac{N}2}f(a+(2k-1)h)+2\\sum_{k=1}^{\\frac{N}2-1}f(a+2kh)\\right]\n",
    "$$\n",
    " \n",
    "\n",
    "with 10 slices."
   ]
  },
  {
   "cell_type": "code",
   "execution_count": 9,
   "id": "4267d16e-29ae-499f-8023-ada63b38e989",
   "metadata": {
    "tags": []
   },
   "outputs": [
    {
     "data": {
      "text/plain": [
       "simpson (generic function with 1 method)"
      ]
     },
     "execution_count": 9,
     "metadata": {},
     "output_type": "execute_result"
    }
   ],
   "source": [
    "function trapezoidal(f::Function,a::Real,b::Real;N::Int=10,fᵃ::Union{Real,Nothing}=nothing,fᵇ::Union{Real,Nothing}=nothing)\n",
    "    h = (b-a)/N\n",
    "    k = 1:(N-1)\n",
    "    fᵃ isa Nothing && (fᵃ = f(a))\n",
    "    fᵇ isa Nothing && (fᵇ = f(b))\n",
    "    return h*((fᵃ+fᵇ)/2+sum(@.(f(a+k*h))))\n",
    "end\n",
    "\n",
    "function simpson(f::Function,a::Real,b::Real;N::Int=10,fᵃ::Union{Real,Nothing}=nothing,fᵇ::Union{Real,Nothing}=nothing)\n",
    "    h = (b-a)/N\n",
    "    k₁ = 1:(Int(N/2))\n",
    "    k₂ = 1:(Int(N/2-1))\n",
    "    fᵃ isa Nothing && (fᵃ = f(a))\n",
    "    fᵇ isa Nothing && (fᵇ = f(b))\n",
    "    return 1/3*h*(fᵃ+fᵇ+4*sum(@.(f(a+(2k₁-1)*h)))+2*sum(@.(f(a+2k₂*h))))\n",
    "end"
   ]
  },
  {
   "cell_type": "markdown",
   "id": "4470a88d-1ac3-4aff-815d-8942c07480c0",
   "metadata": {},
   "source": [
    "### (b) Run each of the programs in (a) and compare your result to the exact value. What is the fractional error on the calculation?"
   ]
  },
  {
   "cell_type": "code",
   "execution_count": 10,
   "id": "1bee95b0-00d7-4b0b-aaf8-b671cfebb45b",
   "metadata": {
    "tags": []
   },
   "outputs": [
    {
     "data": {
      "text/plain": [
       "12.4"
      ]
     },
     "execution_count": 10,
     "metadata": {},
     "output_type": "execute_result"
    }
   ],
   "source": [
    "F(x) = x^4+2x+1\n",
    "# the exact value\n",
    "Iᴿ=integrate(F(x),(x,0,2)) |> N |> float"
   ]
  },
  {
   "cell_type": "code",
   "execution_count": 11,
   "id": "bff498f4-a561-4caf-a0fa-aec2a80f5c32",
   "metadata": {
    "tags": []
   },
   "outputs": [
    {
     "data": {
      "text/markdown": [
       "**Using Trapezoidal rule**:\n",
       "\n",
       "The numerical result is 12.50656.\n",
       "\n",
       "The fractional error is 0.008593548387096773.\n"
      ],
      "text/plain": [
       "  \u001b[1mUsing Trapezoidal rule\u001b[22m:\n",
       "\n",
       "  The numerical result is 12.50656.\n",
       "\n",
       "  The fractional error is 0.008593548387096773."
      ]
     },
     "metadata": {},
     "output_type": "display_data"
    }
   ],
   "source": [
    "Iᵀ=trapezoidal(F,0,2;N=10)\n",
    "display(md\"\"\"\n",
    "    **Using Trapezoidal rule**:\n",
    "    \n",
    "    The numerical result is $Iᵀ.\n",
    "    \n",
    "    The fractional error is $((Iᵀ-Iᴿ)/Iᴿ).\n",
    "    \"\"\")"
   ]
  },
  {
   "cell_type": "code",
   "execution_count": 12,
   "id": "fb69a1d5-3035-4df1-bf0e-92dfd858a27a",
   "metadata": {
    "tags": []
   },
   "outputs": [
    {
     "data": {
      "text/markdown": [
       "**Using Simpson rule**:\n",
       "\n",
       "The numerical result is 12.400426666666666.\n",
       "\n",
       "The fractional error is 3.440860215047654e-5.\n"
      ],
      "text/plain": [
       "  \u001b[1mUsing Simpson rule\u001b[22m:\n",
       "\n",
       "  The numerical result is 12.400426666666666.\n",
       "\n",
       "  The fractional error is 3.440860215047654e-5."
      ]
     },
     "metadata": {},
     "output_type": "display_data"
    }
   ],
   "source": [
    "Iˢ=simpson(F,0,2;N=10)\n",
    "display(md\"\"\"\n",
    "    **Using Simpson rule**:\n",
    "    \n",
    "    The numerical result is $Iˢ.\n",
    "    \n",
    "    The fractional error is $((Iˢ-Iᴿ)/Iᴿ).\n",
    "    \"\"\")"
   ]
  },
  {
   "cell_type": "markdown",
   "id": "99c7c535-216f-4819-889d-6743a03641f6",
   "metadata": {},
   "source": [
    "### (c) Modify both programs in (a) to use 100 slices instead. Note the improvement in the results. How do the results using Simpson’s 1/3 rule compare with those using trapezoidal rule with the same number (i.e. 10 and 100) of slices?"
   ]
  },
  {
   "cell_type": "code",
   "execution_count": 13,
   "id": "fd08e4b8-a906-4446-a5f0-6c9fd2baa592",
   "metadata": {
    "tags": []
   },
   "outputs": [
    {
     "data": {
      "text/markdown": [
       "**Using Trapezoidal rule**:\n",
       "\n",
       "The numerical result is 12.401066656000001.\n",
       "\n",
       "The fractional error is 8.602064516135292e-5.\n"
      ],
      "text/plain": [
       "  \u001b[1mUsing Trapezoidal rule\u001b[22m:\n",
       "\n",
       "  The numerical result is 12.401066656000001.\n",
       "\n",
       "  The fractional error is 8.602064516135292e-5."
      ]
     },
     "metadata": {},
     "output_type": "display_data"
    }
   ],
   "source": [
    "Iᵀ=trapezoidal(F,0,2;N=100)\n",
    "display(md\"\"\"\n",
    "    **Using Trapezoidal rule**:\n",
    "    \n",
    "    The numerical result is $Iᵀ.\n",
    "    \n",
    "    The fractional error is $((Iᵀ-Iᴿ)/Iᴿ).\n",
    "    \"\"\")"
   ]
  },
  {
   "cell_type": "code",
   "execution_count": 14,
   "id": "e20f3249-1106-4187-bf5b-59eaf6208d28",
   "metadata": {
    "tags": []
   },
   "outputs": [
    {
     "data": {
      "text/markdown": [
       "**Using Simpson rule**:\n",
       "\n",
       "The numerical result is 12.400000042666667.\n",
       "\n",
       "The fractional error is 3.4408602132426464e-9.\n"
      ],
      "text/plain": [
       "  \u001b[1mUsing Simpson rule\u001b[22m:\n",
       "\n",
       "  The numerical result is 12.400000042666667.\n",
       "\n",
       "  The fractional error is 3.4408602132426464e-9."
      ]
     },
     "metadata": {},
     "output_type": "display_data"
    }
   ],
   "source": [
    "Iˢ=simpson(F,0,2;N=100)\n",
    "display(md\"\"\"\n",
    "    **Using Simpson rule**:\n",
    "    \n",
    "    The numerical result is $Iˢ.\n",
    "    \n",
    "    The fractional error is $((Iˢ-Iᴿ)/Iᴿ).\n",
    "    \"\"\")"
   ]
  },
  {
   "cell_type": "markdown",
   "id": "e08245db-2c32-485b-a18f-adc0778fc49f",
   "metadata": {},
   "source": [
    "**Comparison on result**:\n",
    "The comparison of result from two method is obvious that the `simpson` method is **more accurate** that the `trapezoidal` method."
   ]
  },
  {
   "cell_type": "markdown",
   "id": "1e7ab78c-8024-45fe-8aac-c66c0e29d1fd",
   "metadata": {},
   "source": [
    "## 3.The Planck theory of thermal radiation \n",
    "\n",
    "tells us that in the (angular) frequency interval ω to ω + dω, a black body of unit area radiates electromagnetically an amount of thermal energy per second equal to I(ω) dω, where\n",
    "\n",
    "$$\n",
    "I(\\omega)=\\frac{h}{8\\pi^3c^2}\\frac{\\omega^3}{e^{h\\omega/2\\pi k_BT}-1}\n",
    "$$\n",
    "\n",
    "Here h is the Planck’s constant, c is the speed of light, and kB is Boltzmann’s constant. In other words, the total power per unit area radiated by a black body is\n",
    "\n",
    "$$\n",
    "W=\\int_0^{\\infty}I(\\omega)d\\omega=\\int_0^{\\infty}\\frac{h}{8\\pi^3c^2}\\frac{\\omega^3}{e^{h\\omega/2\\pi k_BT}-1}d\\omega\n",
    "$$"
   ]
  },
  {
   "cell_type": "markdown",
   "id": "e76eba78-4db1-4b29-a5db-e8be2f380b2c",
   "metadata": {},
   "source": [
    "### (a) By performing a change of variable in the integral, show that\n",
    "\n",
    "$$\n",
    "W=\\sigma T^4\n",
    "$$\n",
    "\n",
    "where $\\sigma$ is given by \n",
    "\n",
    "$$\n",
    "\\sigma=\\frac{2\\pi k_B^4}{c^2h^3}\\int_0^{\\infty}\\frac{x^3}{e^x-1}\n",
    "$$\n",
    "\n",
    "**Show:**\n",
    "\n",
    "Let $x=\\frac{h\\omega}{2\\pi k_B T}$, then $\\omega=\\frac{2\\pi k_B T}{h} x$.\n",
    "\n",
    "$$\n",
    "\\begin{aligned}\n",
    "W\n",
    "&=\\int_0^{\\infty}\\frac{h}{8\\pi^3c^2}\\frac{\\omega^3}{e^{h\\omega/2\\pi k_BT}-1}d\\omega\\\\\n",
    "&=\\int_0^{\\infty}\\frac{h}{8\\pi^3c^2}(\\frac{2\\pi k_B T}{h})^4 \\frac{x^3}{e^x-1}dx\\\\\n",
    "&=\\frac{2\\pi k_B^4 T^4}{c^2h^3}\\int_0^{\\infty}\\frac{x^3}{e^x-1}dx\\\\\n",
    "&=\\sigma T^4\n",
    "\\end{aligned}\n",
    "$$\n",
    "\n"
   ]
  },
  {
   "cell_type": "markdown",
   "id": "18e1244a-5af7-4328-8468-ba1a8815029e",
   "metadata": {},
   "source": [
    "### (b) To evaluate the improper integral, perform a change of variable\n",
    "\n",
    "$$\n",
    "z=\\frac{x}{1+x}\n",
    "$$\n",
    "\n",
    "so that the integral reads\n",
    "\n",
    "$$\n",
    "I=\\int_0^{\\infty}\\frac{x^3}{e^x-1}dx=\\int_0^1f(z)dz\n",
    "$$\n",
    "\n",
    "Find $f(z)$.\n",
    "\n",
    "**Solution:**\n",
    "\n",
    "First, solve the equation for $x$ in term of $z$,\n",
    "\n",
    "$$\n",
    "\\begin{aligned}\n",
    "z&=1-\\frac{1}{1+x}\\\\\n",
    "x&=\\frac{z}{1-z}\\\\\n",
    "\\end{aligned}\n",
    "$$\n",
    "\n",
    "Then substitute $x$ in the integral,\n",
    "\n",
    "$$\n",
    "I=\\int_0^1\\frac{(\\frac{z}{1-z})^3}{e^{(\\frac{z}{1-z})^3}-1}d(\\frac{z}{1-z})\n",
    "$$"
   ]
  },
  {
   "cell_type": "code",
   "execution_count": 15,
   "id": "ff3ccaa4-0bc3-49bf-badd-478d6f1c72c5",
   "metadata": {
    "tags": []
   },
   "outputs": [
    {
     "data": {
      "text/plain": [
       "(x, z)"
      ]
     },
     "execution_count": 15,
     "metadata": {},
     "output_type": "execute_result"
    }
   ],
   "source": [
    "@vars x z"
   ]
  },
  {
   "cell_type": "code",
   "execution_count": 16,
   "id": "b8b62be8-d55b-48a2-8bb0-d51215d41f32",
   "metadata": {
    "tags": []
   },
   "outputs": [
    {
     "data": {
      "text/latex": [
       "$\\frac{z^{3}}{\\left(1 - z\\right)^{3} \\left(z - 1\\right)^{2} \\left(e^{\\frac{z}{1 - z}} - 1\\right)}$"
      ],
      "text/plain": [
       "               3              \n",
       "              z               \n",
       "──────────────────────────────\n",
       "                  ⎛   z      ⎞\n",
       "                  ⎜ ─────    ⎟\n",
       "       3        2 ⎜ 1 - z    ⎟\n",
       "(1 - z) ⋅(z - 1) ⋅⎝ℯ      - 1⎠"
      ]
     },
     "execution_count": 16,
     "metadata": {},
     "output_type": "execute_result"
    }
   ],
   "source": [
    "fexpr=(x^3/(exp(x)-1))(x=>z/(1-z))*simplify(diff(z/(1-z),z))\n",
    "fexpr"
   ]
  },
  {
   "cell_type": "markdown",
   "id": "ebb8853b-9335-45ad-ad02-a43295201d52",
   "metadata": {},
   "source": [
    "Then \n",
    "\n",
    "$$\n",
    "f(z)=\\frac{z^3}{(1-z)^5(e^{\\frac{z}{1-z}}-1)}\n",
    "$$"
   ]
  },
  {
   "cell_type": "markdown",
   "id": "b3a6f2ac-8286-4ab1-ae9b-46fc6a955549",
   "metadata": {},
   "source": [
    "### (c) If your result in (b) is correct, \n",
    "you will notice that 𝑓(0) and 𝑓(1) are both\n",
    "of the indeterminate form 0/0. Write a code to plot 𝑓(𝑧) from 𝑧 = 0.01 to\n",
    "𝑧 = 0.99. \n",
    "\n",
    "Guess the value of $lim_{z\\to0^+} f(z)$ and $lim_{z\\to1^-} f(z)$."
   ]
  },
  {
   "cell_type": "code",
   "execution_count": 17,
   "id": "519d292b-2dfb-44d8-882c-3e6207f6aece",
   "metadata": {
    "tags": []
   },
   "outputs": [
    {
     "data": {
      "application/vnd.plotly.v1+json": {
       "data": [
        {
         "colorbar": {
          "len": 0.914342738407699,
          "title": {
           "text": ""
          },
          "x": 0.9934383202099738,
          "y": 0.5329861111111112
         },
         "legendgroup": "f(z)",
         "line": {
          "color": "rgba(0, 154, 250, 1.000)",
          "dash": "solid",
          "shape": "linear",
          "width": 1
         },
         "mode": "lines",
         "name": "f(z)",
         "showlegend": true,
         "type": "scatter",
         "x": [
          0.01,
          0.02,
          0.03,
          0.04,
          0.05,
          0.06,
          0.07,
          0.08,
          0.09,
          0.1,
          0.11,
          0.12,
          0.13,
          0.14,
          0.15,
          0.16,
          0.17,
          0.18,
          0.19,
          0.2,
          0.21,
          0.22,
          0.23,
          0.24,
          0.25,
          0.26,
          0.27,
          0.28,
          0.29,
          0.3,
          0.31,
          0.32,
          0.33,
          0.34,
          0.35,
          0.36,
          0.37,
          0.38,
          0.39,
          0.4,
          0.41,
          0.42,
          0.43,
          0.44,
          0.45,
          0.46,
          0.47,
          0.48,
          0.49,
          0.5,
          0.51,
          0.52,
          0.53,
          0.54,
          0.55,
          0.56,
          0.57,
          0.58,
          0.59,
          0.6,
          0.61,
          0.62,
          0.63,
          0.64,
          0.65,
          0.66,
          0.67,
          0.68,
          0.69,
          0.7,
          0.71,
          0.72,
          0.73,
          0.74,
          0.75,
          0.76,
          0.77,
          0.78,
          0.79,
          0.8,
          0.81,
          0.82,
          0.83,
          0.84,
          0.85,
          0.86,
          0.87,
          0.88,
          0.89,
          0.9,
          0.91,
          0.92,
          0.93,
          0.94,
          0.95,
          0.96,
          0.97,
          0.98,
          0.99
         ],
         "xaxis": "x",
         "y": [
          0.0001035771528416822,
          0.0004292561989074222,
          0.0010009730146873282,
          0.0018448277949703665,
          0.0029892804386955738,
          0.004465364350291357,
          0.006306920489397631,
          0.008550853694216562,
          0.01123741351717742,
          0.014410502048505018,
          0.018118011466286443,
          0.02241219434367092,
          0.027350070068166366,
          0.03299387108821829,
          0.039411533102368244,
          0.04667723375069567,
          0.05487198486181679,
          0.06408428385679202,
          0.07441083051974305,
          0.08595731602020996,
          0.09883929182124503,
          0.1131831269374815,
          0.12912706292700857,
          0.1468223770184503,
          0.1664346648992348,
          0.1881452559320746,
          0.2121527749337235,
          0.23867486615262912,
          0.26795009672918396,
          0.30024005872196646,
          0.3358316907420075,
          0.375039842358478,
          0.41821010672297954,
          0.4657219492999571,
          0.5179921631736085,
          0.5754786841019974,
          0.6386848012666066,
          0.7081638024595717,
          0.7845240951729754,
          0.8684348475800182,
          0.960632195553012,
          1.0619260634103345,
          1.1732076467015804,
          1.2954576045944557,
          1.4297550067408236,
          1.5772870741063119,
          1.7393597441355957,
          1.9174090764617457,
          2.1130134944066015,
          2.327906827477306,
          2.5639920779675838,
          2.8233557767556614,
          3.108282714445681,
          3.4212707276561383,
          3.765045078187534,
          4.142571774318233,
          4.557068934941735,
          5.012014971347723,
          5.511151936315869,
          6.058481838515188,
          6.658253008198782,
          7.314932686693029,
          8.033160848065217,
          8.817678789644424,
          9.673224185586642,
          10.604382019350638,
          11.615378038890587,
          12.709798078839185,
          13.890212787369489,
          15.157683107099096,
          16.51111760265614,
          17.946449035999354,
          19.455595623060695,
          21.025174153166855,
          22.63494088422257,
          24.255956995475014,
          25.84851619201065,
          27.359944093848128,
          28.722497624066737,
          29.85177658203849,
          30.646328069987042,
          30.989487531159355,
          30.754937836448864,
          29.81788831036712,
          28.07394281262455,
          25.467154350625684,
          22.026613686004193,
          17.906035569569063,
          13.412275696637698,
          8.997685120476886,
          5.184770198220935,
          2.4073065896500445,
          0.8129184508139708,
          0.1677569393177223,
          0.015371832392152698,
          0.00032617162463803286,
          3.4081655401354554e-07,
          1.5420506385226795e-13,
          9.811872030585049e-34
         ],
         "yaxis": "y"
        }
       ],
       "layout": {
        "annotations": [],
        "height": 400,
        "legend": {
         "bgcolor": "rgba(255, 255, 255, 1.000)",
         "bordercolor": "rgba(0, 0, 0, 1)",
         "borderwidth": 1,
         "font": {
          "color": "rgba(0, 0, 0, 1)",
          "family": "sans-serif",
          "size": 11
         },
         "title": {
          "font": {
           "color": "rgba(0, 0, 0, 1)",
           "family": "sans-serif",
           "size": 15
          },
          "text": ""
         },
         "tracegroupgap": 0,
         "traceorder": "normal",
         "x": 1,
         "xanchor": "auto",
         "y": 1,
         "yanchor": "auto"
        },
        "margin": {
         "b": 20,
         "l": 0,
         "r": 0,
         "t": 20
        },
        "paper_bgcolor": "rgba(255, 255, 255, 1.000)",
        "plot_bgcolor": "rgba(255, 255, 255, 1.000)",
        "showlegend": true,
        "width": 600,
        "xaxis": {
         "anchor": "y",
         "domain": [
          0.03619130941965587,
          0.9934383202099738
         ],
         "gridcolor": "rgba(0, 0, 0, 0.1)",
         "gridwidth": 0.5,
         "linecolor": "rgba(0, 0, 0, 1)",
         "mirror": false,
         "range": [
          -0.019399999999999973,
          1.0194
         ],
         "showgrid": true,
         "showline": true,
         "showticklabels": true,
         "tickangle": 0,
         "tickcolor": "rgb(0, 0, 0)",
         "tickfont": {
          "color": "rgba(0, 0, 0, 1)",
          "family": "sans-serif",
          "size": 11
         },
         "tickmode": "array",
         "ticks": "inside",
         "ticktext": [
          "0.00",
          "0.25",
          "0.50",
          "0.75",
          "1.00"
         ],
         "tickvals": [
          0,
          0.25,
          0.5,
          0.75,
          1
         ],
         "title": {
          "font": {
           "color": "rgba(0, 0, 0, 1)",
           "family": "sans-serif",
           "size": 15
          },
          "text": "z"
         },
         "type": "linear",
         "visible": true,
         "zeroline": false,
         "zerolinecolor": "rgba(0, 0, 0, 1)"
        },
        "yaxis": {
         "anchor": "x",
         "domain": [
          0.07581474190726165,
          0.9901574803149606
         ],
         "gridcolor": "rgba(0, 0, 0, 0.1)",
         "gridwidth": 0.5,
         "linecolor": "rgba(0, 0, 0, 1)",
         "mirror": false,
         "range": [
          -0.9296846259347831,
          31.91917215709414
         ],
         "showgrid": true,
         "showline": true,
         "showticklabels": true,
         "tickangle": 0,
         "tickcolor": "rgb(0, 0, 0)",
         "tickfont": {
          "color": "rgba(0, 0, 0, 1)",
          "family": "sans-serif",
          "size": 11
         },
         "tickmode": "array",
         "ticks": "inside",
         "ticktext": [
          "0",
          "10",
          "20",
          "30"
         ],
         "tickvals": [
          0,
          10,
          20,
          30
         ],
         "title": {
          "font": {
           "color": "rgba(0, 0, 0, 1)",
           "family": "sans-serif",
           "size": 15
          },
          "text": ""
         },
         "type": "linear",
         "visible": true,
         "zeroline": false,
         "zerolinecolor": "rgba(0, 0, 0, 1)"
        }
       }
      },
      "image/png": "[encoded data removed]",
      "text/html": [
       "    <div id=\"b4d5ed73-3d17-4156-98ad-bcca82d3302b\" style=\"width:600px;height:400px;\"></div>\n",
       "    <script>\n",
       "        requirejs.config({\n",
       "        paths: {\n",
       "            plotly: 'https://cdn.plot.ly/plotly-2.6.3.min'\n",
       "        }\n",
       "    });\n",
       "    require(['plotly'], function (Plotly) {\n",
       "\n",
       "    Plotly.newPlot('b4d5ed73-3d17-4156-98ad-bcca82d3302b', [\n",
       "    {\n",
       "        \"xaxis\": \"x\",\n",
       "        \"colorbar\": {\n",
       "            \"y\": 0.5329861111111112,\n",
       "            \"title\": \"\",\n",
       "            \"len\": 0.914342738407699,\n",
       "            \"x\": 0.9934383202099738\n",
       "        },\n",
       "        \"yaxis\": \"y\",\n",
       "        \"x\": [\n",
       "            0.01,\n",
       "            0.02,\n",
       "            0.03,\n",
       "            0.04,\n",
       "            0.05,\n",
       "            0.06,\n",
       "            0.07,\n",
       "            0.08,\n",
       "            0.09,\n",
       "            0.1,\n",
       "            0.11,\n",
       "            0.12,\n",
       "            0.13,\n",
       "            0.14,\n",
       "            0.15,\n",
       "            0.16,\n",
       "            0.17,\n",
       "            0.18,\n",
       "            0.19,\n",
       "            0.2,\n",
       "            0.21,\n",
       "            0.22,\n",
       "            0.23,\n",
       "            0.24,\n",
       "            0.25,\n",
       "            0.26,\n",
       "            0.27,\n",
       "            0.28,\n",
       "            0.29,\n",
       "            0.3,\n",
       "            0.31,\n",
       "            0.32,\n",
       "            0.33,\n",
       "            0.34,\n",
       "            0.35,\n",
       "            0.36,\n",
       "            0.37,\n",
       "            0.38,\n",
       "            0.39,\n",
       "            0.4,\n",
       "            0.41,\n",
       "            0.42,\n",
       "            0.43,\n",
       "            0.44,\n",
       "            0.45,\n",
       "            0.46,\n",
       "            0.47,\n",
       "            0.48,\n",
       "            0.49,\n",
       "            0.5,\n",
       "            0.51,\n",
       "            0.52,\n",
       "            0.53,\n",
       "            0.54,\n",
       "            0.55,\n",
       "            0.56,\n",
       "            0.57,\n",
       "            0.58,\n",
       "            0.59,\n",
       "            0.6,\n",
       "            0.61,\n",
       "            0.62,\n",
       "            0.63,\n",
       "            0.64,\n",
       "            0.65,\n",
       "            0.66,\n",
       "            0.67,\n",
       "            0.68,\n",
       "            0.69,\n",
       "            0.7,\n",
       "            0.71,\n",
       "            0.72,\n",
       "            0.73,\n",
       "            0.74,\n",
       "            0.75,\n",
       "            0.76,\n",
       "            0.77,\n",
       "            0.78,\n",
       "            0.79,\n",
       "            0.8,\n",
       "            0.81,\n",
       "            0.82,\n",
       "            0.83,\n",
       "            0.84,\n",
       "            0.85,\n",
       "            0.86,\n",
       "            0.87,\n",
       "            0.88,\n",
       "            0.89,\n",
       "            0.9,\n",
       "            0.91,\n",
       "            0.92,\n",
       "            0.93,\n",
       "            0.94,\n",
       "            0.95,\n",
       "            0.96,\n",
       "            0.97,\n",
       "            0.98,\n",
       "            0.99\n",
       "        ],\n",
       "        \"showlegend\": true,\n",
       "        \"mode\": \"lines\",\n",
       "        \"name\": \"f(z)\",\n",
       "        \"legendgroup\": \"f(z)\",\n",
       "        \"line\": {\n",
       "            \"color\": \"rgba(0, 154, 250, 1.000)\",\n",
       "            \"shape\": \"linear\",\n",
       "            \"dash\": \"solid\",\n",
       "            \"width\": 1\n",
       "        },\n",
       "        \"y\": [\n",
       "            0.0001035771528416822,\n",
       "            0.0004292561989074222,\n",
       "            0.0010009730146873282,\n",
       "            0.0018448277949703665,\n",
       "            0.0029892804386955738,\n",
       "            0.004465364350291357,\n",
       "            0.006306920489397631,\n",
       "            0.008550853694216562,\n",
       "            0.01123741351717742,\n",
       "            0.014410502048505018,\n",
       "            0.018118011466286443,\n",
       "            0.02241219434367092,\n",
       "            0.027350070068166366,\n",
       "            0.03299387108821829,\n",
       "            0.039411533102368244,\n",
       "            0.04667723375069567,\n",
       "            0.05487198486181679,\n",
       "            0.06408428385679202,\n",
       "            0.07441083051974305,\n",
       "            0.08595731602020996,\n",
       "            0.09883929182124503,\n",
       "            0.1131831269374815,\n",
       "            0.12912706292700857,\n",
       "            0.1468223770184503,\n",
       "            0.1664346648992348,\n",
       "            0.1881452559320746,\n",
       "            0.2121527749337235,\n",
       "            0.23867486615262912,\n",
       "            0.26795009672918396,\n",
       "            0.30024005872196646,\n",
       "            0.3358316907420075,\n",
       "            0.375039842358478,\n",
       "            0.41821010672297954,\n",
       "            0.4657219492999571,\n",
       "            0.5179921631736085,\n",
       "            0.5754786841019974,\n",
       "            0.6386848012666066,\n",
       "            0.7081638024595717,\n",
       "            0.7845240951729754,\n",
       "            0.8684348475800182,\n",
       "            0.960632195553012,\n",
       "            1.0619260634103345,\n",
       "            1.1732076467015804,\n",
       "            1.2954576045944557,\n",
       "            1.4297550067408236,\n",
       "            1.5772870741063119,\n",
       "            1.7393597441355957,\n",
       "            1.9174090764617457,\n",
       "            2.1130134944066015,\n",
       "            2.327906827477306,\n",
       "            2.5639920779675838,\n",
       "            2.8233557767556614,\n",
       "            3.108282714445681,\n",
       "            3.4212707276561383,\n",
       "            3.765045078187534,\n",
       "            4.142571774318233,\n",
       "            4.557068934941735,\n",
       "            5.012014971347723,\n",
       "            5.511151936315869,\n",
       "            6.058481838515188,\n",
       "            6.658253008198782,\n",
       "            7.314932686693029,\n",
       "            8.033160848065217,\n",
       "            8.817678789644424,\n",
       "            9.673224185586642,\n",
       "            10.604382019350638,\n",
       "            11.615378038890587,\n",
       "            12.709798078839185,\n",
       "            13.890212787369489,\n",
       "            15.157683107099096,\n",
       "            16.51111760265614,\n",
       "            17.946449035999354,\n",
       "            19.455595623060695,\n",
       "            21.025174153166855,\n",
       "            22.63494088422257,\n",
       "            24.255956995475014,\n",
       "            25.84851619201065,\n",
       "            27.359944093848128,\n",
       "            28.722497624066737,\n",
       "            29.85177658203849,\n",
       "            30.646328069987042,\n",
       "            30.989487531159355,\n",
       "            30.754937836448864,\n",
       "            29.81788831036712,\n",
       "            28.07394281262455,\n",
       "            25.467154350625684,\n",
       "            22.026613686004193,\n",
       "            17.906035569569063,\n",
       "            13.412275696637698,\n",
       "            8.997685120476886,\n",
       "            5.184770198220935,\n",
       "            2.4073065896500445,\n",
       "            0.8129184508139708,\n",
       "            0.1677569393177223,\n",
       "            0.015371832392152698,\n",
       "            0.00032617162463803286,\n",
       "            3.4081655401354554e-7,\n",
       "            1.5420506385226795e-13,\n",
       "            9.811872030585049e-34\n",
       "        ],\n",
       "        \"type\": \"scatter\"\n",
       "    }\n",
       "]\n",
       ", {\n",
       "    \"showlegend\": true,\n",
       "    \"xaxis\": {\n",
       "        \"showticklabels\": true,\n",
       "        \"gridwidth\": 0.5,\n",
       "        \"tickvals\": [\n",
       "            0.0,\n",
       "            0.25,\n",
       "            0.5,\n",
       "            0.75,\n",
       "            1.0\n",
       "        ],\n",
       "        \"range\": [\n",
       "            -0.019399999999999973,\n",
       "            1.0194\n",
       "        ],\n",
       "        \"domain\": [\n",
       "            0.03619130941965587,\n",
       "            0.9934383202099738\n",
       "        ],\n",
       "        \"mirror\": false,\n",
       "        \"tickangle\": 0,\n",
       "        \"showline\": true,\n",
       "        \"ticktext\": [\n",
       "            \"0.00\",\n",
       "            \"0.25\",\n",
       "            \"0.50\",\n",
       "            \"0.75\",\n",
       "            \"1.00\"\n",
       "        ],\n",
       "        \"zeroline\": false,\n",
       "        \"tickfont\": {\n",
       "            \"color\": \"rgba(0, 0, 0, 1.000)\",\n",
       "            \"family\": \"sans-serif\",\n",
       "            \"size\": 11\n",
       "        },\n",
       "        \"zerolinecolor\": \"rgba(0, 0, 0, 1.000)\",\n",
       "        \"anchor\": \"y\",\n",
       "        \"visible\": true,\n",
       "        \"ticks\": \"inside\",\n",
       "        \"tickmode\": \"array\",\n",
       "        \"linecolor\": \"rgba(0, 0, 0, 1.000)\",\n",
       "        \"showgrid\": true,\n",
       "        \"title\": \"z\",\n",
       "        \"gridcolor\": \"rgba(0, 0, 0, 0.100)\",\n",
       "        \"titlefont\": {\n",
       "            \"color\": \"rgba(0, 0, 0, 1.000)\",\n",
       "            \"family\": \"sans-serif\",\n",
       "            \"size\": 15\n",
       "        },\n",
       "        \"tickcolor\": \"rgb(0, 0, 0)\",\n",
       "        \"type\": \"-\"\n",
       "    },\n",
       "    \"paper_bgcolor\": \"rgba(255, 255, 255, 1.000)\",\n",
       "    \"annotations\": [],\n",
       "    \"height\": 400,\n",
       "    \"margin\": {\n",
       "        \"l\": 0,\n",
       "        \"b\": 20,\n",
       "        \"r\": 0,\n",
       "        \"t\": 20\n",
       "    },\n",
       "    \"plot_bgcolor\": \"rgba(255, 255, 255, 1.000)\",\n",
       "    \"yaxis\": {\n",
       "        \"showticklabels\": true,\n",
       "        \"gridwidth\": 0.5,\n",
       "        \"tickvals\": [\n",
       "            0.0,\n",
       "            10.0,\n",
       "            20.0,\n",
       "            30.0\n",
       "        ],\n",
       "        \"range\": [\n",
       "            -0.9296846259347831,\n",
       "            31.91917215709414\n",
       "        ],\n",
       "        \"domain\": [\n",
       "            0.07581474190726165,\n",
       "            0.9901574803149606\n",
       "        ],\n",
       "        \"mirror\": false,\n",
       "        \"tickangle\": 0,\n",
       "        \"showline\": true,\n",
       "        \"ticktext\": [\n",
       "            \"0\",\n",
       "            \"10\",\n",
       "            \"20\",\n",
       "            \"30\"\n",
       "        ],\n",
       "        \"zeroline\": false,\n",
       "        \"tickfont\": {\n",
       "            \"color\": \"rgba(0, 0, 0, 1.000)\",\n",
       "            \"family\": \"sans-serif\",\n",
       "            \"size\": 11\n",
       "        },\n",
       "        \"zerolinecolor\": \"rgba(0, 0, 0, 1.000)\",\n",
       "        \"anchor\": \"x\",\n",
       "        \"visible\": true,\n",
       "        \"ticks\": \"inside\",\n",
       "        \"tickmode\": \"array\",\n",
       "        \"linecolor\": \"rgba(0, 0, 0, 1.000)\",\n",
       "        \"showgrid\": true,\n",
       "        \"title\": \"\",\n",
       "        \"gridcolor\": \"rgba(0, 0, 0, 0.100)\",\n",
       "        \"titlefont\": {\n",
       "            \"color\": \"rgba(0, 0, 0, 1.000)\",\n",
       "            \"family\": \"sans-serif\",\n",
       "            \"size\": 15\n",
       "        },\n",
       "        \"tickcolor\": \"rgb(0, 0, 0)\",\n",
       "        \"type\": \"-\"\n",
       "    },\n",
       "    \"legend\": {\n",
       "        \"yanchor\": \"auto\",\n",
       "        \"xanchor\": \"auto\",\n",
       "        \"bordercolor\": \"rgba(0, 0, 0, 1.000)\",\n",
       "        \"bgcolor\": \"rgba(255, 255, 255, 1.000)\",\n",
       "        \"borderwidth\": 1,\n",
       "        \"tracegroupgap\": 0,\n",
       "        \"y\": 1.0,\n",
       "        \"font\": {\n",
       "            \"color\": \"rgba(0, 0, 0, 1.000)\",\n",
       "            \"family\": \"sans-serif\",\n",
       "            \"size\": 11\n",
       "        },\n",
       "        \"title\": {\n",
       "            \"font\": {\n",
       "                \"color\": \"rgba(0, 0, 0, 1.000)\",\n",
       "                \"family\": \"sans-serif\",\n",
       "                \"size\": 15\n",
       "            },\n",
       "            \"text\": \"\"\n",
       "        },\n",
       "        \"traceorder\": \"normal\",\n",
       "        \"x\": 1.0\n",
       "    },\n",
       "    \"width\": 600\n",
       "}\n",
       ");\n",
       "    });\n",
       "    </script>\n"
      ]
     },
     "execution_count": 17,
     "metadata": {},
     "output_type": "execute_result"
    }
   ],
   "source": [
    "zs = 0.01:0.01:0.99\n",
    "fs = (t->fexpr(z=>t)).(zs)\n",
    "\n",
    "plot(zs,fs,label=\"f(z)\")\n",
    "xlabel!(\"z\")"
   ]
  },
  {
   "cell_type": "markdown",
   "id": "eeb95b6e-c8da-442b-9515-b00956fb9875",
   "metadata": {},
   "source": [
    "### (d) Verify your guess in (c) by using SymPy."
   ]
  },
  {
   "cell_type": "code",
   "execution_count": 18,
   "id": "0541ab98-f9f8-4403-8353-aeda73074eb1",
   "metadata": {
    "tags": []
   },
   "outputs": [
    {
     "data": {
      "text/latex": [
       "$0$"
      ],
      "text/plain": [
       "0"
      ]
     },
     "execution_count": 18,
     "metadata": {},
     "output_type": "execute_result"
    }
   ],
   "source": [
    "limit(fexpr,z=>0,\"+\")"
   ]
  },
  {
   "cell_type": "code",
   "execution_count": 19,
   "id": "672c2475-1984-4a9a-a18d-84b9e3c7afc4",
   "metadata": {
    "tags": []
   },
   "outputs": [
    {
     "data": {
      "text/latex": [
       "$0$"
      ],
      "text/plain": [
       "0"
      ]
     },
     "execution_count": 19,
     "metadata": {},
     "output_type": "execute_result"
    }
   ],
   "source": [
    "limit(fexpr,z=>1,\"-\")"
   ]
  },
  {
   "cell_type": "markdown",
   "id": "68f7c7d6-d5c5-4e73-8db0-6295cac7b850",
   "metadata": {
    "tags": []
   },
   "source": [
    "### (e) Write a code to evaluate the integral I accurate to five significant figures using\n",
    "- (i) Trapezoidal rule\n",
    "- (ii) Simpson’s rule\n",
    "- (iii) Romberg integration\n",
    "- (iv) Gaussian quadrature"
   ]
  },
  {
   "cell_type": "code",
   "execution_count": 25,
   "id": "b49e34f2-01bb-4606-add2-d2275770c15f",
   "metadata": {},
   "outputs": [],
   "source": [
    "import FastGaussQuadrature:gausslegendre"
   ]
  },
  {
   "cell_type": "code",
   "execution_count": 40,
   "id": "7e3caa5a-ab8a-42c7-9730-a151bb968cf5",
   "metadata": {
    "tags": []
   },
   "outputs": [
    {
     "data": {
      "text/plain": [
       "romberg (generic function with 1 method)"
      ]
     },
     "execution_count": 40,
     "metadata": {},
     "output_type": "execute_result"
    }
   ],
   "source": [
    "function gaussian(f::Function,a::Real,b::Real;N::Int=10)\n",
    "    x,w = gausslegendre(N)\n",
    "    x = @. ((b-a)*x + (b+a))/2\n",
    "    w = @. w*(b-a)/2\n",
    "    return sum(@.(w*f(x)))\n",
    "end\n",
    "\n",
    "function romberg(f::Function,a::Real,b::Real;n::Int=10,fᵃ::Union{Real,Nothing}=nothing,fᵇ::Union{Real,Nothing}=nothing)\n",
    "    fᵃ isa Nothing && (fᵃ = f(a))\n",
    "    fᵇ isa Nothing && (fᵇ = f(b))\n",
    "    h = (b-a)/2\n",
    "    R = zeros(2,n+1)\n",
    "    R[1,1] = h*(fᵃ+fᵇ)\n",
    "    for i ∈ 1:n\n",
    "        R[2,1] = R[1,1]/2 + h*sum(f(a+(2k-1)*h) for k ∈ 1:(2^(i-1)))\n",
    "        for j ∈ 1:i\n",
    "            R[2,j+1] = (4^j*R[2,j]-R[1,j])/(4^j-1)\n",
    "        end\n",
    "        R[1,:] = R[2, :]\n",
    "        R[2,:] .= 0\n",
    "        h /= 2\n",
    "    end\n",
    "    return R[1,end]\n",
    "end"
   ]
  },
  {
   "cell_type": "code",
   "execution_count": 51,
   "id": "f6c3fbc4-c4e7-481d-a202-1a32e55dd7c1",
   "metadata": {
    "tags": []
   },
   "outputs": [
    {
     "data": {
      "text/plain": [
       "6.493939402637864"
      ]
     },
     "execution_count": 51,
     "metadata": {},
     "output_type": "execute_result"
    }
   ],
   "source": [
    "trapezoidal(t->fexpr(z=>t)|>N,0,1;N=100,fᵃ=0,fᵇ=0)"
   ]
  },
  {
   "cell_type": "code",
   "execution_count": 52,
   "id": "169d6789-347e-44e3-aae1-c73b1f0f3633",
   "metadata": {
    "tags": []
   },
   "outputs": [
    {
     "data": {
      "text/plain": [
       "6.493940347695172"
      ]
     },
     "execution_count": 52,
     "metadata": {},
     "output_type": "execute_result"
    }
   ],
   "source": [
    "simpson(t->fexpr(z=>t)|>N,0,1;N=100,fᵃ=0,fᵇ=0)"
   ]
  },
  {
   "cell_type": "code",
   "execution_count": 53,
   "id": "74c7e948-bd0d-4c69-9cbf-0903c3f6d643",
   "metadata": {
    "tags": []
   },
   "outputs": [
    {
     "data": {
      "text/plain": [
       "6.493939402267098"
      ]
     },
     "execution_count": 53,
     "metadata": {},
     "output_type": "execute_result"
    }
   ],
   "source": [
    "romberg(t->fexpr(z=>t)|>N,0,1;n=10,fᵃ=0,fᵇ=0)"
   ]
  },
  {
   "cell_type": "code",
   "execution_count": 54,
   "id": "2ae76048-76e9-4f48-b2c5-1b74f106d748",
   "metadata": {
    "tags": []
   },
   "outputs": [
    {
     "data": {
      "text/plain": [
       "6.493939402266829"
      ]
     },
     "execution_count": 54,
     "metadata": {},
     "output_type": "execute_result"
    }
   ],
   "source": [
    "gaussian(t->fexpr(z=>t)|>N,0,1;N=100)"
   ]
  },
  {
   "cell_type": "markdown",
   "id": "79d4f5f8-9f4f-4edd-a49f-a2e116d31ba2",
   "metadata": {},
   "source": [
    "## Reference\n",
    "\n",
    "[1] Wiki: Romberg's method, https://en.wikipedia.org/wiki/Romberg%27s_method\n",
    "\n",
    "[2] Github: FastGaussQuadrature.jl, https://github.com/JuliaApproximation/FastGaussQuadrature.jl."
   ]
  },
  {
   "cell_type": "code",
   "execution_count": 55,
   "id": "a99cd110-05f2-4f0b-81ca-e2ec6f5e2b24",
   "metadata": {
    "tags": []
   },
   "outputs": [
    {
     "data": {
      "text/plain": [
       "σ (generic function with 1 method)"
      ]
     },
     "execution_count": 55,
     "metadata": {},
     "output_type": "execute_result"
    }
   ],
   "source": [
    "σ(I;c=299792458,h=6.62607015e-34,k_B=1.380649e-23) = (2π*k_B^4)/(c^2*h^3)*I"
   ]
  },
  {
   "cell_type": "code",
   "execution_count": 56,
   "id": "e2f5281e-562c-48c9-89c3-05d8a1b9845a",
   "metadata": {
    "tags": []
   },
   "outputs": [
    {
     "data": {
      "text/plain": [
       "5.6703744191844314e-8"
      ]
     },
     "execution_count": 56,
     "metadata": {},
     "output_type": "execute_result"
    }
   ],
   "source": [
    "σ(6.493939402266829;c=299792458,h=6.62607015e-34,k_B=1.380649e-23)"
   ]
  }
 ],
 "metadata": {
  "kernelspec": {
   "display_name": "Julia 1.8.3",
   "language": "julia",
   "name": "julia-1.8"
  },
  "language_info": {
   "file_extension": ".jl",
   "mimetype": "application/julia",
   "name": "julia",
   "version": "1.8.3"
  }
 },
 "nbformat": 4,
 "nbformat_minor": 5
}
